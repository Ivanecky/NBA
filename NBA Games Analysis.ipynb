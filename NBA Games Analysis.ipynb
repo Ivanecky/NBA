{
 "cells": [
  {
   "cell_type": "markdown",
   "metadata": {},
   "source": [
    "# NBA Games Analysis\n",
    "The goal of this project is to build a handful of different models to make a predictive model for NBA games. The dataset used has four seasons of data from 2014-2018, not including playoff or preseason games. This data is available publicly via Kaggle. "
   ]
  },
  {
   "cell_type": "markdown",
   "metadata": {},
   "source": [
    "### Load Data\n",
    "Data is loaded from local file that was downloaded from Kaggle."
   ]
  },
  {
   "cell_type": "code",
   "execution_count": 129,
   "metadata": {
    "ExecuteTime": {
     "end_time": "2020-02-18T16:21:36.783690Z",
     "start_time": "2020-02-18T16:21:36.775142Z"
    }
   },
   "outputs": [],
   "source": [
    "# Import libraries\n",
    "import os\n",
    "import pandas as pd\n",
    "import numpy as np\n",
    "import tensorflow as tf\n",
    "import keras\n",
    "import matplotlib.pyplot as plt\n",
    "from sklearn.model_selection import train_test_split, GridSearchCV\n",
    "from sklearn.linear_model import LogisticRegression, LogisticRegressionCV\n",
    "from sklearn.neighbors import KNeighborsRegressor\n",
    "from sklearn.ensemble import GradientBoostingRegressor\n",
    "from sklearn.tree import DecisionTreeClassifier, export_graphviz\n",
    "from sklearn.preprocessing import LabelEncoder, StandardScaler\n",
    "from sklearn.metrics import accuracy_score, confusion_matrix, classification_report, roc_curve, auc, mean_squared_error\n",
    "import datetime\n",
    "\n",
    "%matplotlib inline "
   ]
  },
  {
   "cell_type": "code",
   "execution_count": 130,
   "metadata": {
    "ExecuteTime": {
     "end_time": "2020-02-18T16:21:36.832317Z",
     "start_time": "2020-02-18T16:21:36.785877Z"
    }
   },
   "outputs": [],
   "source": [
    "# Read in data\n",
    "nba = pd.read_csv(\"nba.games.stats.csv\")"
   ]
  },
  {
   "cell_type": "markdown",
   "metadata": {},
   "source": [
    "## Data Cleaning\n",
    "Next steps will be to clean up the data and create some new features that may be useful for future predcitions."
   ]
  },
  {
   "cell_type": "code",
   "execution_count": 131,
   "metadata": {
    "ExecuteTime": {
     "end_time": "2020-02-18T16:21:36.845919Z",
     "start_time": "2020-02-18T16:21:36.834460Z"
    },
    "scrolled": true
   },
   "outputs": [
    {
     "name": "stdout",
     "output_type": "stream",
     "text": [
      "<class 'pandas.core.frame.DataFrame'>\n",
      "RangeIndex: 9840 entries, 0 to 9839\n",
      "Data columns (total 41 columns):\n",
      "Unnamed: 0                  9840 non-null int64\n",
      "Team                        9840 non-null object\n",
      "Game                        9840 non-null int64\n",
      "Date                        9840 non-null object\n",
      "Home                        9840 non-null object\n",
      "Opponent                    9840 non-null object\n",
      "WINorLOSS                   9840 non-null object\n",
      "TeamPoints                  9840 non-null int64\n",
      "OpponentPoints              9840 non-null int64\n",
      "FieldGoals                  9840 non-null int64\n",
      "FieldGoalsAttempted         9840 non-null int64\n",
      "FieldGoals.                 9840 non-null float64\n",
      "X3PointShots                9840 non-null int64\n",
      "X3PointShotsAttempted       9840 non-null int64\n",
      "X3PointShots.               9840 non-null float64\n",
      "FreeThrows                  9840 non-null int64\n",
      "FreeThrowsAttempted         9840 non-null int64\n",
      "FreeThrows.                 9840 non-null float64\n",
      "OffRebounds                 9840 non-null int64\n",
      "TotalRebounds               9840 non-null int64\n",
      "Assists                     9840 non-null int64\n",
      "Steals                      9840 non-null int64\n",
      "Blocks                      9840 non-null int64\n",
      "Turnovers                   9840 non-null int64\n",
      "TotalFouls                  9840 non-null int64\n",
      "Opp.FieldGoals              9840 non-null int64\n",
      "Opp.FieldGoalsAttempted     9840 non-null int64\n",
      "Opp.FieldGoals.             9840 non-null float64\n",
      "Opp.3PointShots             9840 non-null int64\n",
      "Opp.3PointShotsAttempted    9840 non-null int64\n",
      "Opp.3PointShots.            9840 non-null float64\n",
      "Opp.FreeThrows              9840 non-null int64\n",
      "Opp.FreeThrowsAttempted     9840 non-null int64\n",
      "Opp.FreeThrows.             9840 non-null float64\n",
      "Opp.OffRebounds             9840 non-null int64\n",
      "Opp.TotalRebounds           9840 non-null int64\n",
      "Opp.Assists                 9840 non-null int64\n",
      "Opp.Steals                  9840 non-null int64\n",
      "Opp.Blocks                  9840 non-null int64\n",
      "Opp.Turnovers               9840 non-null int64\n",
      "Opp.TotalFouls              9840 non-null int64\n",
      "dtypes: float64(6), int64(30), object(5)\n",
      "memory usage: 3.1+ MB\n"
     ]
    }
   ],
   "source": [
    "# Print out data information\n",
    "nba.info()"
   ]
  },
  {
   "cell_type": "code",
   "execution_count": 132,
   "metadata": {
    "ExecuteTime": {
     "end_time": "2020-02-18T16:21:36.862892Z",
     "start_time": "2020-02-18T16:21:36.847909Z"
    }
   },
   "outputs": [],
   "source": [
    "# Most of the above are ints or floats, but a few objects should be categories.\n",
    "# Next, convert these to categories.\n",
    "nba['Team'] = nba['Team'].astype('category')\n",
    "nba['Home'] = nba['Home'].astype('category')\n",
    "nba['Opponent'] = nba['Opponent'].astype('category')\n",
    "nba['WINorLOSS'] = nba['WINorLOSS'].astype('category')\n",
    "# Convert date to a date object\n",
    "nba['Date'] = pd.to_datetime(nba['Date'])"
   ]
  },
  {
   "cell_type": "code",
   "execution_count": 133,
   "metadata": {
    "ExecuteTime": {
     "end_time": "2020-02-18T16:21:36.874640Z",
     "start_time": "2020-02-18T16:21:36.864442Z"
    },
    "scrolled": true
   },
   "outputs": [
    {
     "name": "stdout",
     "output_type": "stream",
     "text": [
      "<class 'pandas.core.frame.DataFrame'>\n",
      "RangeIndex: 9840 entries, 0 to 9839\n",
      "Data columns (total 41 columns):\n",
      "Unnamed: 0                  9840 non-null int64\n",
      "Team                        9840 non-null category\n",
      "Game                        9840 non-null int64\n",
      "Date                        9840 non-null datetime64[ns]\n",
      "Home                        9840 non-null category\n",
      "Opponent                    9840 non-null category\n",
      "WINorLOSS                   9840 non-null category\n",
      "TeamPoints                  9840 non-null int64\n",
      "OpponentPoints              9840 non-null int64\n",
      "FieldGoals                  9840 non-null int64\n",
      "FieldGoalsAttempted         9840 non-null int64\n",
      "FieldGoals.                 9840 non-null float64\n",
      "X3PointShots                9840 non-null int64\n",
      "X3PointShotsAttempted       9840 non-null int64\n",
      "X3PointShots.               9840 non-null float64\n",
      "FreeThrows                  9840 non-null int64\n",
      "FreeThrowsAttempted         9840 non-null int64\n",
      "FreeThrows.                 9840 non-null float64\n",
      "OffRebounds                 9840 non-null int64\n",
      "TotalRebounds               9840 non-null int64\n",
      "Assists                     9840 non-null int64\n",
      "Steals                      9840 non-null int64\n",
      "Blocks                      9840 non-null int64\n",
      "Turnovers                   9840 non-null int64\n",
      "TotalFouls                  9840 non-null int64\n",
      "Opp.FieldGoals              9840 non-null int64\n",
      "Opp.FieldGoalsAttempted     9840 non-null int64\n",
      "Opp.FieldGoals.             9840 non-null float64\n",
      "Opp.3PointShots             9840 non-null int64\n",
      "Opp.3PointShotsAttempted    9840 non-null int64\n",
      "Opp.3PointShots.            9840 non-null float64\n",
      "Opp.FreeThrows              9840 non-null int64\n",
      "Opp.FreeThrowsAttempted     9840 non-null int64\n",
      "Opp.FreeThrows.             9840 non-null float64\n",
      "Opp.OffRebounds             9840 non-null int64\n",
      "Opp.TotalRebounds           9840 non-null int64\n",
      "Opp.Assists                 9840 non-null int64\n",
      "Opp.Steals                  9840 non-null int64\n",
      "Opp.Blocks                  9840 non-null int64\n",
      "Opp.Turnovers               9840 non-null int64\n",
      "Opp.TotalFouls              9840 non-null int64\n",
      "dtypes: category(4), datetime64[ns](1), float64(6), int64(30)\n",
      "memory usage: 2.8 MB\n"
     ]
    }
   ],
   "source": [
    "# Confirm the changes worked\n",
    "nba.info()"
   ]
  },
  {
   "cell_type": "markdown",
   "metadata": {},
   "source": [
    "### Create season variable\n",
    "There are four distinct seasons, with no games in a season coming after May 1st of that year. Let's categorize every game for particular seasons."
   ]
  },
  {
   "cell_type": "code",
   "execution_count": 134,
   "metadata": {
    "ExecuteTime": {
     "end_time": "2020-02-18T16:21:38.752121Z",
     "start_time": "2020-02-18T16:21:36.876380Z"
    }
   },
   "outputs": [],
   "source": [
    "# Define function\n",
    "def getSeason(x):\n",
    "    if x < pd.to_datetime('2015-5-1'):\n",
    "        return '14-15'\n",
    "    elif x < pd.to_datetime('2016-5-1'):\n",
    "        return '15-16'\n",
    "    elif x < pd.to_datetime('2017-5-1'):\n",
    "        return '16-17'\n",
    "    else:\n",
    "        return '17-18'\n",
    "\n",
    "nba['season'] = nba['Date'].apply(getSeason)"
   ]
  },
  {
   "cell_type": "code",
   "execution_count": 135,
   "metadata": {
    "ExecuteTime": {
     "end_time": "2020-02-18T16:21:38.761604Z",
     "start_time": "2020-02-18T16:21:38.753650Z"
    }
   },
   "outputs": [
    {
     "data": {
      "text/plain": [
       "17-18    2460\n",
       "16-17    2460\n",
       "15-16    2460\n",
       "14-15    2460\n",
       "Name: season, dtype: int64"
      ]
     },
     "execution_count": 135,
     "metadata": {},
     "output_type": "execute_result"
    }
   ],
   "source": [
    "# Convert to category\n",
    "nba['season'] = nba['season'].astype('category')\n",
    "# Check results\n",
    "nba['season'].value_counts()"
   ]
  },
  {
   "cell_type": "markdown",
   "metadata": {},
   "source": [
    "### Get running total of wins & losses\n",
    "Need to calculate the running total of wins and losses for the home and away teams to calculate winning pct for a certain point in time.\n",
    "\n",
    "Logical approach seems to be create a separate dataframe with each teams wins, losses and win pct for each date and then join this table (twice) to the main table. One join would bring in the Home teams info and the second join would tie in the Away teams info."
   ]
  },
  {
   "cell_type": "code",
   "execution_count": 136,
   "metadata": {
    "ExecuteTime": {
     "end_time": "2020-02-18T16:21:38.799068Z",
     "start_time": "2020-02-18T16:21:38.764335Z"
    },
    "scrolled": true
   },
   "outputs": [
    {
     "data": {
      "text/html": [
       "<div>\n",
       "<style scoped>\n",
       "    .dataframe tbody tr th:only-of-type {\n",
       "        vertical-align: middle;\n",
       "    }\n",
       "\n",
       "    .dataframe tbody tr th {\n",
       "        vertical-align: top;\n",
       "    }\n",
       "\n",
       "    .dataframe thead th {\n",
       "        text-align: right;\n",
       "    }\n",
       "</style>\n",
       "<table border=\"1\" class=\"dataframe\">\n",
       "  <thead>\n",
       "    <tr style=\"text-align: right;\">\n",
       "      <th></th>\n",
       "      <th>Unnamed: 0</th>\n",
       "      <th>Team</th>\n",
       "      <th>Game</th>\n",
       "      <th>Date</th>\n",
       "      <th>Home</th>\n",
       "      <th>Opponent</th>\n",
       "      <th>WINorLOSS</th>\n",
       "      <th>TeamPoints</th>\n",
       "      <th>OpponentPoints</th>\n",
       "      <th>FieldGoals</th>\n",
       "      <th>...</th>\n",
       "      <th>Opp.FreeThrowsAttempted</th>\n",
       "      <th>Opp.FreeThrows.</th>\n",
       "      <th>Opp.OffRebounds</th>\n",
       "      <th>Opp.TotalRebounds</th>\n",
       "      <th>Opp.Assists</th>\n",
       "      <th>Opp.Steals</th>\n",
       "      <th>Opp.Blocks</th>\n",
       "      <th>Opp.Turnovers</th>\n",
       "      <th>Opp.TotalFouls</th>\n",
       "      <th>season</th>\n",
       "    </tr>\n",
       "  </thead>\n",
       "  <tbody>\n",
       "    <tr>\n",
       "      <th>0</th>\n",
       "      <td>1</td>\n",
       "      <td>ATL</td>\n",
       "      <td>1</td>\n",
       "      <td>2014-10-29</td>\n",
       "      <td>Away</td>\n",
       "      <td>TOR</td>\n",
       "      <td>L</td>\n",
       "      <td>102</td>\n",
       "      <td>109</td>\n",
       "      <td>40</td>\n",
       "      <td>...</td>\n",
       "      <td>33</td>\n",
       "      <td>0.818</td>\n",
       "      <td>16</td>\n",
       "      <td>48</td>\n",
       "      <td>26</td>\n",
       "      <td>13</td>\n",
       "      <td>9</td>\n",
       "      <td>9</td>\n",
       "      <td>22</td>\n",
       "      <td>14-15</td>\n",
       "    </tr>\n",
       "    <tr>\n",
       "      <th>1</th>\n",
       "      <td>2</td>\n",
       "      <td>ATL</td>\n",
       "      <td>2</td>\n",
       "      <td>2014-11-01</td>\n",
       "      <td>Home</td>\n",
       "      <td>IND</td>\n",
       "      <td>W</td>\n",
       "      <td>102</td>\n",
       "      <td>92</td>\n",
       "      <td>35</td>\n",
       "      <td>...</td>\n",
       "      <td>21</td>\n",
       "      <td>0.857</td>\n",
       "      <td>11</td>\n",
       "      <td>44</td>\n",
       "      <td>25</td>\n",
       "      <td>5</td>\n",
       "      <td>5</td>\n",
       "      <td>18</td>\n",
       "      <td>26</td>\n",
       "      <td>14-15</td>\n",
       "    </tr>\n",
       "    <tr>\n",
       "      <th>2</th>\n",
       "      <td>3</td>\n",
       "      <td>ATL</td>\n",
       "      <td>3</td>\n",
       "      <td>2014-11-05</td>\n",
       "      <td>Away</td>\n",
       "      <td>SAS</td>\n",
       "      <td>L</td>\n",
       "      <td>92</td>\n",
       "      <td>94</td>\n",
       "      <td>38</td>\n",
       "      <td>...</td>\n",
       "      <td>38</td>\n",
       "      <td>0.711</td>\n",
       "      <td>11</td>\n",
       "      <td>50</td>\n",
       "      <td>25</td>\n",
       "      <td>7</td>\n",
       "      <td>9</td>\n",
       "      <td>19</td>\n",
       "      <td>15</td>\n",
       "      <td>14-15</td>\n",
       "    </tr>\n",
       "    <tr>\n",
       "      <th>3</th>\n",
       "      <td>4</td>\n",
       "      <td>ATL</td>\n",
       "      <td>4</td>\n",
       "      <td>2014-11-07</td>\n",
       "      <td>Away</td>\n",
       "      <td>CHO</td>\n",
       "      <td>L</td>\n",
       "      <td>119</td>\n",
       "      <td>122</td>\n",
       "      <td>43</td>\n",
       "      <td>...</td>\n",
       "      <td>27</td>\n",
       "      <td>0.741</td>\n",
       "      <td>11</td>\n",
       "      <td>51</td>\n",
       "      <td>31</td>\n",
       "      <td>6</td>\n",
       "      <td>7</td>\n",
       "      <td>19</td>\n",
       "      <td>30</td>\n",
       "      <td>14-15</td>\n",
       "    </tr>\n",
       "    <tr>\n",
       "      <th>4</th>\n",
       "      <td>5</td>\n",
       "      <td>ATL</td>\n",
       "      <td>5</td>\n",
       "      <td>2014-11-08</td>\n",
       "      <td>Home</td>\n",
       "      <td>NYK</td>\n",
       "      <td>W</td>\n",
       "      <td>103</td>\n",
       "      <td>96</td>\n",
       "      <td>33</td>\n",
       "      <td>...</td>\n",
       "      <td>11</td>\n",
       "      <td>0.727</td>\n",
       "      <td>13</td>\n",
       "      <td>44</td>\n",
       "      <td>26</td>\n",
       "      <td>2</td>\n",
       "      <td>6</td>\n",
       "      <td>15</td>\n",
       "      <td>29</td>\n",
       "      <td>14-15</td>\n",
       "    </tr>\n",
       "    <tr>\n",
       "      <th>...</th>\n",
       "      <td>...</td>\n",
       "      <td>...</td>\n",
       "      <td>...</td>\n",
       "      <td>...</td>\n",
       "      <td>...</td>\n",
       "      <td>...</td>\n",
       "      <td>...</td>\n",
       "      <td>...</td>\n",
       "      <td>...</td>\n",
       "      <td>...</td>\n",
       "      <td>...</td>\n",
       "      <td>...</td>\n",
       "      <td>...</td>\n",
       "      <td>...</td>\n",
       "      <td>...</td>\n",
       "      <td>...</td>\n",
       "      <td>...</td>\n",
       "      <td>...</td>\n",
       "      <td>...</td>\n",
       "      <td>...</td>\n",
       "      <td>...</td>\n",
       "    </tr>\n",
       "    <tr>\n",
       "      <th>9835</th>\n",
       "      <td>78119</td>\n",
       "      <td>WAS</td>\n",
       "      <td>78</td>\n",
       "      <td>2018-04-03</td>\n",
       "      <td>Away</td>\n",
       "      <td>HOU</td>\n",
       "      <td>L</td>\n",
       "      <td>104</td>\n",
       "      <td>120</td>\n",
       "      <td>38</td>\n",
       "      <td>...</td>\n",
       "      <td>27</td>\n",
       "      <td>0.667</td>\n",
       "      <td>10</td>\n",
       "      <td>46</td>\n",
       "      <td>26</td>\n",
       "      <td>13</td>\n",
       "      <td>3</td>\n",
       "      <td>9</td>\n",
       "      <td>14</td>\n",
       "      <td>17-18</td>\n",
       "    </tr>\n",
       "    <tr>\n",
       "      <th>9836</th>\n",
       "      <td>79119</td>\n",
       "      <td>WAS</td>\n",
       "      <td>79</td>\n",
       "      <td>2018-04-05</td>\n",
       "      <td>Away</td>\n",
       "      <td>CLE</td>\n",
       "      <td>L</td>\n",
       "      <td>115</td>\n",
       "      <td>119</td>\n",
       "      <td>47</td>\n",
       "      <td>...</td>\n",
       "      <td>28</td>\n",
       "      <td>0.786</td>\n",
       "      <td>5</td>\n",
       "      <td>35</td>\n",
       "      <td>26</td>\n",
       "      <td>10</td>\n",
       "      <td>3</td>\n",
       "      <td>16</td>\n",
       "      <td>14</td>\n",
       "      <td>17-18</td>\n",
       "    </tr>\n",
       "    <tr>\n",
       "      <th>9837</th>\n",
       "      <td>80119</td>\n",
       "      <td>WAS</td>\n",
       "      <td>80</td>\n",
       "      <td>2018-04-06</td>\n",
       "      <td>Home</td>\n",
       "      <td>ATL</td>\n",
       "      <td>L</td>\n",
       "      <td>97</td>\n",
       "      <td>103</td>\n",
       "      <td>35</td>\n",
       "      <td>...</td>\n",
       "      <td>23</td>\n",
       "      <td>0.696</td>\n",
       "      <td>7</td>\n",
       "      <td>50</td>\n",
       "      <td>24</td>\n",
       "      <td>5</td>\n",
       "      <td>5</td>\n",
       "      <td>18</td>\n",
       "      <td>22</td>\n",
       "      <td>17-18</td>\n",
       "    </tr>\n",
       "    <tr>\n",
       "      <th>9838</th>\n",
       "      <td>81124</td>\n",
       "      <td>WAS</td>\n",
       "      <td>81</td>\n",
       "      <td>2018-04-10</td>\n",
       "      <td>Home</td>\n",
       "      <td>BOS</td>\n",
       "      <td>W</td>\n",
       "      <td>113</td>\n",
       "      <td>101</td>\n",
       "      <td>41</td>\n",
       "      <td>...</td>\n",
       "      <td>27</td>\n",
       "      <td>0.815</td>\n",
       "      <td>13</td>\n",
       "      <td>44</td>\n",
       "      <td>22</td>\n",
       "      <td>14</td>\n",
       "      <td>1</td>\n",
       "      <td>16</td>\n",
       "      <td>18</td>\n",
       "      <td>17-18</td>\n",
       "    </tr>\n",
       "    <tr>\n",
       "      <th>9839</th>\n",
       "      <td>82119</td>\n",
       "      <td>WAS</td>\n",
       "      <td>82</td>\n",
       "      <td>2018-04-11</td>\n",
       "      <td>Away</td>\n",
       "      <td>ORL</td>\n",
       "      <td>L</td>\n",
       "      <td>92</td>\n",
       "      <td>101</td>\n",
       "      <td>33</td>\n",
       "      <td>...</td>\n",
       "      <td>27</td>\n",
       "      <td>0.815</td>\n",
       "      <td>6</td>\n",
       "      <td>42</td>\n",
       "      <td>20</td>\n",
       "      <td>6</td>\n",
       "      <td>7</td>\n",
       "      <td>16</td>\n",
       "      <td>27</td>\n",
       "      <td>17-18</td>\n",
       "    </tr>\n",
       "  </tbody>\n",
       "</table>\n",
       "<p>9840 rows × 42 columns</p>\n",
       "</div>"
      ],
      "text/plain": [
       "      Unnamed: 0 Team  Game       Date  Home Opponent WINorLOSS  TeamPoints  \\\n",
       "0              1  ATL     1 2014-10-29  Away      TOR         L         102   \n",
       "1              2  ATL     2 2014-11-01  Home      IND         W         102   \n",
       "2              3  ATL     3 2014-11-05  Away      SAS         L          92   \n",
       "3              4  ATL     4 2014-11-07  Away      CHO         L         119   \n",
       "4              5  ATL     5 2014-11-08  Home      NYK         W         103   \n",
       "...          ...  ...   ...        ...   ...      ...       ...         ...   \n",
       "9835       78119  WAS    78 2018-04-03  Away      HOU         L         104   \n",
       "9836       79119  WAS    79 2018-04-05  Away      CLE         L         115   \n",
       "9837       80119  WAS    80 2018-04-06  Home      ATL         L          97   \n",
       "9838       81124  WAS    81 2018-04-10  Home      BOS         W         113   \n",
       "9839       82119  WAS    82 2018-04-11  Away      ORL         L          92   \n",
       "\n",
       "      OpponentPoints  FieldGoals  ...  Opp.FreeThrowsAttempted  \\\n",
       "0                109          40  ...                       33   \n",
       "1                 92          35  ...                       21   \n",
       "2                 94          38  ...                       38   \n",
       "3                122          43  ...                       27   \n",
       "4                 96          33  ...                       11   \n",
       "...              ...         ...  ...                      ...   \n",
       "9835             120          38  ...                       27   \n",
       "9836             119          47  ...                       28   \n",
       "9837             103          35  ...                       23   \n",
       "9838             101          41  ...                       27   \n",
       "9839             101          33  ...                       27   \n",
       "\n",
       "      Opp.FreeThrows.  Opp.OffRebounds  Opp.TotalRebounds  Opp.Assists  \\\n",
       "0               0.818               16                 48           26   \n",
       "1               0.857               11                 44           25   \n",
       "2               0.711               11                 50           25   \n",
       "3               0.741               11                 51           31   \n",
       "4               0.727               13                 44           26   \n",
       "...               ...              ...                ...          ...   \n",
       "9835            0.667               10                 46           26   \n",
       "9836            0.786                5                 35           26   \n",
       "9837            0.696                7                 50           24   \n",
       "9838            0.815               13                 44           22   \n",
       "9839            0.815                6                 42           20   \n",
       "\n",
       "      Opp.Steals  Opp.Blocks  Opp.Turnovers  Opp.TotalFouls  season  \n",
       "0             13           9              9              22   14-15  \n",
       "1              5           5             18              26   14-15  \n",
       "2              7           9             19              15   14-15  \n",
       "3              6           7             19              30   14-15  \n",
       "4              2           6             15              29   14-15  \n",
       "...          ...         ...            ...             ...     ...  \n",
       "9835          13           3              9              14   17-18  \n",
       "9836          10           3             16              14   17-18  \n",
       "9837           5           5             18              22   17-18  \n",
       "9838          14           1             16              18   17-18  \n",
       "9839           6           7             16              27   17-18  \n",
       "\n",
       "[9840 rows x 42 columns]"
      ]
     },
     "metadata": {},
     "output_type": "display_data"
    }
   ],
   "source": [
    "display(nba)"
   ]
  },
  {
   "cell_type": "code",
   "execution_count": 137,
   "metadata": {
    "ExecuteTime": {
     "end_time": "2020-02-18T16:21:38.816205Z",
     "start_time": "2020-02-18T16:21:38.801227Z"
    },
    "scrolled": true
   },
   "outputs": [],
   "source": [
    "# Create copy of nba dataframe\n",
    "temp = nba\n",
    "# Define a numeric W/L column for cumulative sum\n",
    "temp['win_loss'] = np.where(temp['WINorLOSS'] == 'W', 1, 0)\n",
    "# Create four subsets - one for each season\n",
    "# Might be a better way to do this but sticking with simplicity for now\n",
    "s1 = temp[temp['season'] == '14-15']\n",
    "s2 = temp[temp['season'] == '15-16']\n",
    "s3 = temp[temp['season'] == '16-17']\n",
    "s4 = temp[temp['season'] == '17-18']"
   ]
  },
  {
   "cell_type": "code",
   "execution_count": 138,
   "metadata": {
    "ExecuteTime": {
     "end_time": "2020-02-18T16:21:38.825886Z",
     "start_time": "2020-02-18T16:21:38.817919Z"
    }
   },
   "outputs": [],
   "source": [
    "# Function to do all of the below\n",
    "def getRollingData(df):\n",
    "    # Create a temporary dataframe\n",
    "    temp = df\n",
    "    # Get rolling win total\n",
    "    df_wins = df.groupby(['Team','Game','Date']).win_loss.sum().groupby(level=[0]).cumsum() # Get rolling win total\n",
    "    df_wins = pd.DataFrame(df_wins).reset_index() # Removes multi index from grouping\n",
    "    df_wins = df_wins[np.isfinite(df_wins['win_loss'])] # Remove NaN rows\n",
    "    opp_wins = df_wins.rename(columns = {'win_loss': 'opp_wins', 'Game': 'opp_games'}) # Opponent data\n",
    "    df_wins = df_wins.rename(columns = {'win_loss': 'wins','Game': 'home_game'}) # Rename cols for merge\n",
    "    df = df.merge(df_wins, on = ['Team','Date'], how = 'left') # Join back to original season data\n",
    "    df = df.merge(opp_wins, on =['Team','Date'], how = 'left') # Join in opponent info\n",
    "    # Only keep a select few columns\n",
    "    df = df[['Team','Game','Date','Home','Opponent','WINorLOSS','wins','home_game','opp_wins','opp_games']]\n",
    "    # Get rolling averages\n",
    "    temp = temp.drop(columns = {'Home','Opponent','WINorLOSS','season','win_loss','Date'})\n",
    "    temp = temp.groupby(['Team']).expanding().mean().reset_index() # Gets cumulative avg of numeric cols\n",
    "    temp['Game'] = temp['level_1'] % 82 + 2 # This fixes the game column (for joining). Index offset which means the avg for a game is one behind the game which is ideal\n",
    "    df = df.merge(temp, on = ['Team', 'Game'], how = 'left')\n",
    "    df = df.drop(columns = ['level_1','Unnamed: 0'])\n",
    "    return df"
   ]
  },
  {
   "cell_type": "code",
   "execution_count": 139,
   "metadata": {
    "ExecuteTime": {
     "end_time": "2020-02-18T16:21:59.350939Z",
     "start_time": "2020-02-18T16:21:38.827618Z"
    }
   },
   "outputs": [],
   "source": [
    "# Get the seasons data\n",
    "season1 = getRollingData(s1)\n",
    "season2 = getRollingData(s2)\n",
    "season3 = getRollingData(s3)\n",
    "season4 = getRollingData(s4)"
   ]
  },
  {
   "cell_type": "code",
   "execution_count": 140,
   "metadata": {
    "ExecuteTime": {
     "end_time": "2020-02-18T16:21:59.368419Z",
     "start_time": "2020-02-18T16:21:59.352323Z"
    }
   },
   "outputs": [],
   "source": [
    "# Combine all the data\n",
    "nba = pd.concat([season1, season2, season3, season4])"
   ]
  },
  {
   "cell_type": "markdown",
   "metadata": {},
   "source": [
    "#### Remove a win/game\n",
    "A quick note - we need to remove a win from each of the `wins` and `opp_wins` columns. Why? As of right now, it gives us where the team stood *after* that game but to make predictions, we need to know how the team was doing heading *into* the game. If we left it as is, we would be predicting for a game while using data that already included how the game actually went."
   ]
  },
  {
   "cell_type": "code",
   "execution_count": 141,
   "metadata": {
    "ExecuteTime": {
     "end_time": "2020-02-18T16:21:59.387300Z",
     "start_time": "2020-02-18T16:21:59.369895Z"
    }
   },
   "outputs": [],
   "source": [
    "# We need to also account for cases when wins = 0, in which case we leave as it is.\n",
    "nba['wins'] = nba['wins'].apply(lambda x: x-1 if x > 0 else x)\n",
    "nba['opp_wins'] = nba['opp_wins'].apply(lambda x: x-1 if x > 0 else x)\n",
    "nba['home_game'] = nba['home_game'].apply(lambda x: x-1 if x > 0 else x)\n",
    "nba['opp_games'] = nba['opp_games'].apply(lambda x: x-1 if x > 0 else x)"
   ]
  },
  {
   "cell_type": "code",
   "execution_count": 142,
   "metadata": {
    "ExecuteTime": {
     "end_time": "2020-02-18T16:21:59.423490Z",
     "start_time": "2020-02-18T16:21:59.388665Z"
    }
   },
   "outputs": [
    {
     "data": {
      "text/html": [
       "<div>\n",
       "<style scoped>\n",
       "    .dataframe tbody tr th:only-of-type {\n",
       "        vertical-align: middle;\n",
       "    }\n",
       "\n",
       "    .dataframe tbody tr th {\n",
       "        vertical-align: top;\n",
       "    }\n",
       "\n",
       "    .dataframe thead th {\n",
       "        text-align: right;\n",
       "    }\n",
       "</style>\n",
       "<table border=\"1\" class=\"dataframe\">\n",
       "  <thead>\n",
       "    <tr style=\"text-align: right;\">\n",
       "      <th></th>\n",
       "      <th>Team</th>\n",
       "      <th>Game</th>\n",
       "      <th>Date</th>\n",
       "      <th>Home</th>\n",
       "      <th>Opponent</th>\n",
       "      <th>WINorLOSS</th>\n",
       "      <th>wins</th>\n",
       "      <th>home_game</th>\n",
       "      <th>opp_wins</th>\n",
       "      <th>opp_games</th>\n",
       "      <th>...</th>\n",
       "      <th>Opp.FreeThrows</th>\n",
       "      <th>Opp.FreeThrowsAttempted</th>\n",
       "      <th>Opp.FreeThrows.</th>\n",
       "      <th>Opp.OffRebounds</th>\n",
       "      <th>Opp.TotalRebounds</th>\n",
       "      <th>Opp.Assists</th>\n",
       "      <th>Opp.Steals</th>\n",
       "      <th>Opp.Blocks</th>\n",
       "      <th>Opp.Turnovers</th>\n",
       "      <th>Opp.TotalFouls</th>\n",
       "    </tr>\n",
       "  </thead>\n",
       "  <tbody>\n",
       "    <tr>\n",
       "      <th>0</th>\n",
       "      <td>ATL</td>\n",
       "      <td>1</td>\n",
       "      <td>2014-10-29</td>\n",
       "      <td>Away</td>\n",
       "      <td>TOR</td>\n",
       "      <td>L</td>\n",
       "      <td>0.0</td>\n",
       "      <td>0</td>\n",
       "      <td>0.0</td>\n",
       "      <td>0</td>\n",
       "      <td>...</td>\n",
       "      <td>NaN</td>\n",
       "      <td>NaN</td>\n",
       "      <td>NaN</td>\n",
       "      <td>NaN</td>\n",
       "      <td>NaN</td>\n",
       "      <td>NaN</td>\n",
       "      <td>NaN</td>\n",
       "      <td>NaN</td>\n",
       "      <td>NaN</td>\n",
       "      <td>NaN</td>\n",
       "    </tr>\n",
       "    <tr>\n",
       "      <th>1</th>\n",
       "      <td>ATL</td>\n",
       "      <td>2</td>\n",
       "      <td>2014-11-01</td>\n",
       "      <td>Home</td>\n",
       "      <td>IND</td>\n",
       "      <td>W</td>\n",
       "      <td>0.0</td>\n",
       "      <td>1</td>\n",
       "      <td>0.0</td>\n",
       "      <td>1</td>\n",
       "      <td>...</td>\n",
       "      <td>27.000000</td>\n",
       "      <td>33.000000</td>\n",
       "      <td>0.818000</td>\n",
       "      <td>16.000000</td>\n",
       "      <td>48.000000</td>\n",
       "      <td>26.000000</td>\n",
       "      <td>13.000000</td>\n",
       "      <td>9.000000</td>\n",
       "      <td>9.000000</td>\n",
       "      <td>22.000000</td>\n",
       "    </tr>\n",
       "    <tr>\n",
       "      <th>2</th>\n",
       "      <td>ATL</td>\n",
       "      <td>3</td>\n",
       "      <td>2014-11-05</td>\n",
       "      <td>Away</td>\n",
       "      <td>SAS</td>\n",
       "      <td>L</td>\n",
       "      <td>0.0</td>\n",
       "      <td>2</td>\n",
       "      <td>0.0</td>\n",
       "      <td>2</td>\n",
       "      <td>...</td>\n",
       "      <td>22.500000</td>\n",
       "      <td>27.000000</td>\n",
       "      <td>0.837500</td>\n",
       "      <td>13.500000</td>\n",
       "      <td>46.000000</td>\n",
       "      <td>25.500000</td>\n",
       "      <td>9.000000</td>\n",
       "      <td>7.000000</td>\n",
       "      <td>13.500000</td>\n",
       "      <td>24.000000</td>\n",
       "    </tr>\n",
       "    <tr>\n",
       "      <th>3</th>\n",
       "      <td>ATL</td>\n",
       "      <td>4</td>\n",
       "      <td>2014-11-07</td>\n",
       "      <td>Away</td>\n",
       "      <td>CHO</td>\n",
       "      <td>L</td>\n",
       "      <td>0.0</td>\n",
       "      <td>3</td>\n",
       "      <td>0.0</td>\n",
       "      <td>3</td>\n",
       "      <td>...</td>\n",
       "      <td>24.000000</td>\n",
       "      <td>30.666667</td>\n",
       "      <td>0.795333</td>\n",
       "      <td>12.666667</td>\n",
       "      <td>47.333333</td>\n",
       "      <td>25.333333</td>\n",
       "      <td>8.333333</td>\n",
       "      <td>7.666667</td>\n",
       "      <td>15.333333</td>\n",
       "      <td>21.000000</td>\n",
       "    </tr>\n",
       "    <tr>\n",
       "      <th>4</th>\n",
       "      <td>ATL</td>\n",
       "      <td>5</td>\n",
       "      <td>2014-11-08</td>\n",
       "      <td>Home</td>\n",
       "      <td>NYK</td>\n",
       "      <td>W</td>\n",
       "      <td>1.0</td>\n",
       "      <td>4</td>\n",
       "      <td>1.0</td>\n",
       "      <td>4</td>\n",
       "      <td>...</td>\n",
       "      <td>23.000000</td>\n",
       "      <td>29.750000</td>\n",
       "      <td>0.781750</td>\n",
       "      <td>12.250000</td>\n",
       "      <td>48.250000</td>\n",
       "      <td>26.750000</td>\n",
       "      <td>7.750000</td>\n",
       "      <td>7.500000</td>\n",
       "      <td>16.250000</td>\n",
       "      <td>23.250000</td>\n",
       "    </tr>\n",
       "    <tr>\n",
       "      <th>...</th>\n",
       "      <td>...</td>\n",
       "      <td>...</td>\n",
       "      <td>...</td>\n",
       "      <td>...</td>\n",
       "      <td>...</td>\n",
       "      <td>...</td>\n",
       "      <td>...</td>\n",
       "      <td>...</td>\n",
       "      <td>...</td>\n",
       "      <td>...</td>\n",
       "      <td>...</td>\n",
       "      <td>...</td>\n",
       "      <td>...</td>\n",
       "      <td>...</td>\n",
       "      <td>...</td>\n",
       "      <td>...</td>\n",
       "      <td>...</td>\n",
       "      <td>...</td>\n",
       "      <td>...</td>\n",
       "      <td>...</td>\n",
       "      <td>...</td>\n",
       "    </tr>\n",
       "    <tr>\n",
       "      <th>2455</th>\n",
       "      <td>WAS</td>\n",
       "      <td>78</td>\n",
       "      <td>2018-04-03</td>\n",
       "      <td>Away</td>\n",
       "      <td>HOU</td>\n",
       "      <td>L</td>\n",
       "      <td>41.0</td>\n",
       "      <td>77</td>\n",
       "      <td>41.0</td>\n",
       "      <td>77</td>\n",
       "      <td>...</td>\n",
       "      <td>17.779221</td>\n",
       "      <td>23.363636</td>\n",
       "      <td>0.765818</td>\n",
       "      <td>9.922078</td>\n",
       "      <td>42.467532</td>\n",
       "      <td>22.246753</td>\n",
       "      <td>7.701299</td>\n",
       "      <td>4.727273</td>\n",
       "      <td>14.350649</td>\n",
       "      <td>20.051948</td>\n",
       "    </tr>\n",
       "    <tr>\n",
       "      <th>2456</th>\n",
       "      <td>WAS</td>\n",
       "      <td>79</td>\n",
       "      <td>2018-04-05</td>\n",
       "      <td>Away</td>\n",
       "      <td>CLE</td>\n",
       "      <td>L</td>\n",
       "      <td>41.0</td>\n",
       "      <td>78</td>\n",
       "      <td>41.0</td>\n",
       "      <td>78</td>\n",
       "      <td>...</td>\n",
       "      <td>17.782051</td>\n",
       "      <td>23.410256</td>\n",
       "      <td>0.764551</td>\n",
       "      <td>9.923077</td>\n",
       "      <td>42.512821</td>\n",
       "      <td>22.294872</td>\n",
       "      <td>7.769231</td>\n",
       "      <td>4.705128</td>\n",
       "      <td>14.282051</td>\n",
       "      <td>19.974359</td>\n",
       "    </tr>\n",
       "    <tr>\n",
       "      <th>2457</th>\n",
       "      <td>WAS</td>\n",
       "      <td>80</td>\n",
       "      <td>2018-04-06</td>\n",
       "      <td>Home</td>\n",
       "      <td>ATL</td>\n",
       "      <td>L</td>\n",
       "      <td>41.0</td>\n",
       "      <td>79</td>\n",
       "      <td>41.0</td>\n",
       "      <td>79</td>\n",
       "      <td>...</td>\n",
       "      <td>17.835443</td>\n",
       "      <td>23.468354</td>\n",
       "      <td>0.764823</td>\n",
       "      <td>9.860759</td>\n",
       "      <td>42.417722</td>\n",
       "      <td>22.341772</td>\n",
       "      <td>7.797468</td>\n",
       "      <td>4.683544</td>\n",
       "      <td>14.303797</td>\n",
       "      <td>19.898734</td>\n",
       "    </tr>\n",
       "    <tr>\n",
       "      <th>2458</th>\n",
       "      <td>WAS</td>\n",
       "      <td>81</td>\n",
       "      <td>2018-04-10</td>\n",
       "      <td>Home</td>\n",
       "      <td>BOS</td>\n",
       "      <td>W</td>\n",
       "      <td>42.0</td>\n",
       "      <td>80</td>\n",
       "      <td>42.0</td>\n",
       "      <td>80</td>\n",
       "      <td>...</td>\n",
       "      <td>17.812500</td>\n",
       "      <td>23.462500</td>\n",
       "      <td>0.763962</td>\n",
       "      <td>9.825000</td>\n",
       "      <td>42.512500</td>\n",
       "      <td>22.362500</td>\n",
       "      <td>7.762500</td>\n",
       "      <td>4.687500</td>\n",
       "      <td>14.350000</td>\n",
       "      <td>19.925000</td>\n",
       "    </tr>\n",
       "    <tr>\n",
       "      <th>2459</th>\n",
       "      <td>WAS</td>\n",
       "      <td>82</td>\n",
       "      <td>2018-04-11</td>\n",
       "      <td>Away</td>\n",
       "      <td>ORL</td>\n",
       "      <td>L</td>\n",
       "      <td>42.0</td>\n",
       "      <td>81</td>\n",
       "      <td>42.0</td>\n",
       "      <td>81</td>\n",
       "      <td>...</td>\n",
       "      <td>17.864198</td>\n",
       "      <td>23.506173</td>\n",
       "      <td>0.764593</td>\n",
       "      <td>9.864198</td>\n",
       "      <td>42.530864</td>\n",
       "      <td>22.358025</td>\n",
       "      <td>7.839506</td>\n",
       "      <td>4.641975</td>\n",
       "      <td>14.370370</td>\n",
       "      <td>19.901235</td>\n",
       "    </tr>\n",
       "  </tbody>\n",
       "</table>\n",
       "<p>9840 rows × 44 columns</p>\n",
       "</div>"
      ],
      "text/plain": [
       "     Team  Game       Date  Home Opponent WINorLOSS  wins  home_game  \\\n",
       "0     ATL     1 2014-10-29  Away      TOR         L   0.0          0   \n",
       "1     ATL     2 2014-11-01  Home      IND         W   0.0          1   \n",
       "2     ATL     3 2014-11-05  Away      SAS         L   0.0          2   \n",
       "3     ATL     4 2014-11-07  Away      CHO         L   0.0          3   \n",
       "4     ATL     5 2014-11-08  Home      NYK         W   1.0          4   \n",
       "...   ...   ...        ...   ...      ...       ...   ...        ...   \n",
       "2455  WAS    78 2018-04-03  Away      HOU         L  41.0         77   \n",
       "2456  WAS    79 2018-04-05  Away      CLE         L  41.0         78   \n",
       "2457  WAS    80 2018-04-06  Home      ATL         L  41.0         79   \n",
       "2458  WAS    81 2018-04-10  Home      BOS         W  42.0         80   \n",
       "2459  WAS    82 2018-04-11  Away      ORL         L  42.0         81   \n",
       "\n",
       "      opp_wins  opp_games  ...  Opp.FreeThrows  Opp.FreeThrowsAttempted  \\\n",
       "0          0.0          0  ...             NaN                      NaN   \n",
       "1          0.0          1  ...       27.000000                33.000000   \n",
       "2          0.0          2  ...       22.500000                27.000000   \n",
       "3          0.0          3  ...       24.000000                30.666667   \n",
       "4          1.0          4  ...       23.000000                29.750000   \n",
       "...        ...        ...  ...             ...                      ...   \n",
       "2455      41.0         77  ...       17.779221                23.363636   \n",
       "2456      41.0         78  ...       17.782051                23.410256   \n",
       "2457      41.0         79  ...       17.835443                23.468354   \n",
       "2458      42.0         80  ...       17.812500                23.462500   \n",
       "2459      42.0         81  ...       17.864198                23.506173   \n",
       "\n",
       "      Opp.FreeThrows.  Opp.OffRebounds  Opp.TotalRebounds  Opp.Assists  \\\n",
       "0                 NaN              NaN                NaN          NaN   \n",
       "1            0.818000        16.000000          48.000000    26.000000   \n",
       "2            0.837500        13.500000          46.000000    25.500000   \n",
       "3            0.795333        12.666667          47.333333    25.333333   \n",
       "4            0.781750        12.250000          48.250000    26.750000   \n",
       "...               ...              ...                ...          ...   \n",
       "2455         0.765818         9.922078          42.467532    22.246753   \n",
       "2456         0.764551         9.923077          42.512821    22.294872   \n",
       "2457         0.764823         9.860759          42.417722    22.341772   \n",
       "2458         0.763962         9.825000          42.512500    22.362500   \n",
       "2459         0.764593         9.864198          42.530864    22.358025   \n",
       "\n",
       "      Opp.Steals  Opp.Blocks  Opp.Turnovers  Opp.TotalFouls  \n",
       "0            NaN         NaN            NaN             NaN  \n",
       "1      13.000000    9.000000       9.000000       22.000000  \n",
       "2       9.000000    7.000000      13.500000       24.000000  \n",
       "3       8.333333    7.666667      15.333333       21.000000  \n",
       "4       7.750000    7.500000      16.250000       23.250000  \n",
       "...          ...         ...            ...             ...  \n",
       "2455    7.701299    4.727273      14.350649       20.051948  \n",
       "2456    7.769231    4.705128      14.282051       19.974359  \n",
       "2457    7.797468    4.683544      14.303797       19.898734  \n",
       "2458    7.762500    4.687500      14.350000       19.925000  \n",
       "2459    7.839506    4.641975      14.370370       19.901235  \n",
       "\n",
       "[9840 rows x 44 columns]"
      ]
     },
     "metadata": {},
     "output_type": "display_data"
    }
   ],
   "source": [
    "display(nba)"
   ]
  },
  {
   "cell_type": "markdown",
   "metadata": {
    "ExecuteTime": {
     "end_time": "2020-02-15T14:56:09.673616Z",
     "start_time": "2020-02-15T14:56:09.630989Z"
    }
   },
   "source": [
    "#### Create winning pct column\n",
    "Get the team's current winning pct."
   ]
  },
  {
   "cell_type": "code",
   "execution_count": 143,
   "metadata": {
    "ExecuteTime": {
     "end_time": "2020-02-18T16:21:59.429588Z",
     "start_time": "2020-02-18T16:21:59.424745Z"
    }
   },
   "outputs": [],
   "source": [
    "nba['win_pct'] = nba['wins'] / nba['home_game']\n",
    "nba['opp_win_pct'] = nba['opp_wins'] / nba['opp_games']"
   ]
  },
  {
   "cell_type": "code",
   "execution_count": 144,
   "metadata": {
    "ExecuteTime": {
     "end_time": "2020-02-18T16:21:59.435615Z",
     "start_time": "2020-02-18T16:21:59.430930Z"
    },
    "scrolled": true
   },
   "outputs": [
    {
     "data": {
      "text/plain": [
       "Index(['Team', 'Game', 'Date', 'Home', 'Opponent', 'WINorLOSS', 'wins',\n",
       "       'home_game', 'opp_wins', 'opp_games', 'TeamPoints', 'OpponentPoints',\n",
       "       'FieldGoals', 'FieldGoalsAttempted', 'FieldGoals.', 'X3PointShots',\n",
       "       'X3PointShotsAttempted', 'X3PointShots.', 'FreeThrows',\n",
       "       'FreeThrowsAttempted', 'FreeThrows.', 'OffRebounds', 'TotalRebounds',\n",
       "       'Assists', 'Steals', 'Blocks', 'Turnovers', 'TotalFouls',\n",
       "       'Opp.FieldGoals', 'Opp.FieldGoalsAttempted', 'Opp.FieldGoals.',\n",
       "       'Opp.3PointShots', 'Opp.3PointShotsAttempted', 'Opp.3PointShots.',\n",
       "       'Opp.FreeThrows', 'Opp.FreeThrowsAttempted', 'Opp.FreeThrows.',\n",
       "       'Opp.OffRebounds', 'Opp.TotalRebounds', 'Opp.Assists', 'Opp.Steals',\n",
       "       'Opp.Blocks', 'Opp.Turnovers', 'Opp.TotalFouls', 'win_pct',\n",
       "       'opp_win_pct'],\n",
       "      dtype='object')"
      ]
     },
     "execution_count": 144,
     "metadata": {},
     "output_type": "execute_result"
    }
   ],
   "source": [
    "nba.columns"
   ]
  },
  {
   "cell_type": "markdown",
   "metadata": {},
   "source": [
    "### Drop columns\n",
    "We can drop some of the columns we no longer will need. These columns were only created for getting to a different result, such as creating `win_loss` to get the cumulative `wins`."
   ]
  },
  {
   "cell_type": "code",
   "execution_count": 145,
   "metadata": {
    "ExecuteTime": {
     "end_time": "2020-02-18T16:21:59.490808Z",
     "start_time": "2020-02-18T16:21:59.437368Z"
    }
   },
   "outputs": [
    {
     "data": {
      "text/html": [
       "<div>\n",
       "<style scoped>\n",
       "    .dataframe tbody tr th:only-of-type {\n",
       "        vertical-align: middle;\n",
       "    }\n",
       "\n",
       "    .dataframe tbody tr th {\n",
       "        vertical-align: top;\n",
       "    }\n",
       "\n",
       "    .dataframe thead th {\n",
       "        text-align: right;\n",
       "    }\n",
       "</style>\n",
       "<table border=\"1\" class=\"dataframe\">\n",
       "  <thead>\n",
       "    <tr style=\"text-align: right;\">\n",
       "      <th></th>\n",
       "      <th>Team</th>\n",
       "      <th>Game</th>\n",
       "      <th>Date</th>\n",
       "      <th>Home</th>\n",
       "      <th>Opponent</th>\n",
       "      <th>WINorLOSS</th>\n",
       "      <th>wins</th>\n",
       "      <th>opp_wins</th>\n",
       "      <th>TeamPoints</th>\n",
       "      <th>OpponentPoints</th>\n",
       "      <th>...</th>\n",
       "      <th>Opp.FreeThrows.</th>\n",
       "      <th>Opp.OffRebounds</th>\n",
       "      <th>Opp.TotalRebounds</th>\n",
       "      <th>Opp.Assists</th>\n",
       "      <th>Opp.Steals</th>\n",
       "      <th>Opp.Blocks</th>\n",
       "      <th>Opp.Turnovers</th>\n",
       "      <th>Opp.TotalFouls</th>\n",
       "      <th>win_pct</th>\n",
       "      <th>opp_win_pct</th>\n",
       "    </tr>\n",
       "  </thead>\n",
       "  <tbody>\n",
       "    <tr>\n",
       "      <th>0</th>\n",
       "      <td>ATL</td>\n",
       "      <td>1</td>\n",
       "      <td>2014-10-29</td>\n",
       "      <td>Away</td>\n",
       "      <td>TOR</td>\n",
       "      <td>L</td>\n",
       "      <td>0.0</td>\n",
       "      <td>0.0</td>\n",
       "      <td>NaN</td>\n",
       "      <td>NaN</td>\n",
       "      <td>...</td>\n",
       "      <td>NaN</td>\n",
       "      <td>NaN</td>\n",
       "      <td>NaN</td>\n",
       "      <td>NaN</td>\n",
       "      <td>NaN</td>\n",
       "      <td>NaN</td>\n",
       "      <td>NaN</td>\n",
       "      <td>NaN</td>\n",
       "      <td>NaN</td>\n",
       "      <td>NaN</td>\n",
       "    </tr>\n",
       "    <tr>\n",
       "      <th>1</th>\n",
       "      <td>ATL</td>\n",
       "      <td>2</td>\n",
       "      <td>2014-11-01</td>\n",
       "      <td>Home</td>\n",
       "      <td>IND</td>\n",
       "      <td>W</td>\n",
       "      <td>0.0</td>\n",
       "      <td>0.0</td>\n",
       "      <td>102.000000</td>\n",
       "      <td>109.000000</td>\n",
       "      <td>...</td>\n",
       "      <td>0.818000</td>\n",
       "      <td>16.000000</td>\n",
       "      <td>48.000000</td>\n",
       "      <td>26.000000</td>\n",
       "      <td>13.000000</td>\n",
       "      <td>9.000000</td>\n",
       "      <td>9.000000</td>\n",
       "      <td>22.000000</td>\n",
       "      <td>0.000000</td>\n",
       "      <td>0.000000</td>\n",
       "    </tr>\n",
       "    <tr>\n",
       "      <th>2</th>\n",
       "      <td>ATL</td>\n",
       "      <td>3</td>\n",
       "      <td>2014-11-05</td>\n",
       "      <td>Away</td>\n",
       "      <td>SAS</td>\n",
       "      <td>L</td>\n",
       "      <td>0.0</td>\n",
       "      <td>0.0</td>\n",
       "      <td>102.000000</td>\n",
       "      <td>100.500000</td>\n",
       "      <td>...</td>\n",
       "      <td>0.837500</td>\n",
       "      <td>13.500000</td>\n",
       "      <td>46.000000</td>\n",
       "      <td>25.500000</td>\n",
       "      <td>9.000000</td>\n",
       "      <td>7.000000</td>\n",
       "      <td>13.500000</td>\n",
       "      <td>24.000000</td>\n",
       "      <td>0.000000</td>\n",
       "      <td>0.000000</td>\n",
       "    </tr>\n",
       "    <tr>\n",
       "      <th>3</th>\n",
       "      <td>ATL</td>\n",
       "      <td>4</td>\n",
       "      <td>2014-11-07</td>\n",
       "      <td>Away</td>\n",
       "      <td>CHO</td>\n",
       "      <td>L</td>\n",
       "      <td>0.0</td>\n",
       "      <td>0.0</td>\n",
       "      <td>98.666667</td>\n",
       "      <td>98.333333</td>\n",
       "      <td>...</td>\n",
       "      <td>0.795333</td>\n",
       "      <td>12.666667</td>\n",
       "      <td>47.333333</td>\n",
       "      <td>25.333333</td>\n",
       "      <td>8.333333</td>\n",
       "      <td>7.666667</td>\n",
       "      <td>15.333333</td>\n",
       "      <td>21.000000</td>\n",
       "      <td>0.000000</td>\n",
       "      <td>0.000000</td>\n",
       "    </tr>\n",
       "    <tr>\n",
       "      <th>4</th>\n",
       "      <td>ATL</td>\n",
       "      <td>5</td>\n",
       "      <td>2014-11-08</td>\n",
       "      <td>Home</td>\n",
       "      <td>NYK</td>\n",
       "      <td>W</td>\n",
       "      <td>1.0</td>\n",
       "      <td>1.0</td>\n",
       "      <td>103.750000</td>\n",
       "      <td>104.250000</td>\n",
       "      <td>...</td>\n",
       "      <td>0.781750</td>\n",
       "      <td>12.250000</td>\n",
       "      <td>48.250000</td>\n",
       "      <td>26.750000</td>\n",
       "      <td>7.750000</td>\n",
       "      <td>7.500000</td>\n",
       "      <td>16.250000</td>\n",
       "      <td>23.250000</td>\n",
       "      <td>0.250000</td>\n",
       "      <td>0.250000</td>\n",
       "    </tr>\n",
       "    <tr>\n",
       "      <th>...</th>\n",
       "      <td>...</td>\n",
       "      <td>...</td>\n",
       "      <td>...</td>\n",
       "      <td>...</td>\n",
       "      <td>...</td>\n",
       "      <td>...</td>\n",
       "      <td>...</td>\n",
       "      <td>...</td>\n",
       "      <td>...</td>\n",
       "      <td>...</td>\n",
       "      <td>...</td>\n",
       "      <td>...</td>\n",
       "      <td>...</td>\n",
       "      <td>...</td>\n",
       "      <td>...</td>\n",
       "      <td>...</td>\n",
       "      <td>...</td>\n",
       "      <td>...</td>\n",
       "      <td>...</td>\n",
       "      <td>...</td>\n",
       "      <td>...</td>\n",
       "    </tr>\n",
       "    <tr>\n",
       "      <th>2455</th>\n",
       "      <td>WAS</td>\n",
       "      <td>78</td>\n",
       "      <td>2018-04-03</td>\n",
       "      <td>Away</td>\n",
       "      <td>HOU</td>\n",
       "      <td>L</td>\n",
       "      <td>41.0</td>\n",
       "      <td>41.0</td>\n",
       "      <td>106.766234</td>\n",
       "      <td>105.844156</td>\n",
       "      <td>...</td>\n",
       "      <td>0.765818</td>\n",
       "      <td>9.922078</td>\n",
       "      <td>42.467532</td>\n",
       "      <td>22.246753</td>\n",
       "      <td>7.701299</td>\n",
       "      <td>4.727273</td>\n",
       "      <td>14.350649</td>\n",
       "      <td>20.051948</td>\n",
       "      <td>0.532468</td>\n",
       "      <td>0.532468</td>\n",
       "    </tr>\n",
       "    <tr>\n",
       "      <th>2456</th>\n",
       "      <td>WAS</td>\n",
       "      <td>79</td>\n",
       "      <td>2018-04-05</td>\n",
       "      <td>Away</td>\n",
       "      <td>CLE</td>\n",
       "      <td>L</td>\n",
       "      <td>41.0</td>\n",
       "      <td>41.0</td>\n",
       "      <td>106.730769</td>\n",
       "      <td>106.025641</td>\n",
       "      <td>...</td>\n",
       "      <td>0.764551</td>\n",
       "      <td>9.923077</td>\n",
       "      <td>42.512821</td>\n",
       "      <td>22.294872</td>\n",
       "      <td>7.769231</td>\n",
       "      <td>4.705128</td>\n",
       "      <td>14.282051</td>\n",
       "      <td>19.974359</td>\n",
       "      <td>0.525641</td>\n",
       "      <td>0.525641</td>\n",
       "    </tr>\n",
       "    <tr>\n",
       "      <th>2457</th>\n",
       "      <td>WAS</td>\n",
       "      <td>80</td>\n",
       "      <td>2018-04-06</td>\n",
       "      <td>Home</td>\n",
       "      <td>ATL</td>\n",
       "      <td>L</td>\n",
       "      <td>41.0</td>\n",
       "      <td>41.0</td>\n",
       "      <td>106.835443</td>\n",
       "      <td>106.189873</td>\n",
       "      <td>...</td>\n",
       "      <td>0.764823</td>\n",
       "      <td>9.860759</td>\n",
       "      <td>42.417722</td>\n",
       "      <td>22.341772</td>\n",
       "      <td>7.797468</td>\n",
       "      <td>4.683544</td>\n",
       "      <td>14.303797</td>\n",
       "      <td>19.898734</td>\n",
       "      <td>0.518987</td>\n",
       "      <td>0.518987</td>\n",
       "    </tr>\n",
       "    <tr>\n",
       "      <th>2458</th>\n",
       "      <td>WAS</td>\n",
       "      <td>81</td>\n",
       "      <td>2018-04-10</td>\n",
       "      <td>Home</td>\n",
       "      <td>BOS</td>\n",
       "      <td>W</td>\n",
       "      <td>42.0</td>\n",
       "      <td>42.0</td>\n",
       "      <td>106.712500</td>\n",
       "      <td>106.150000</td>\n",
       "      <td>...</td>\n",
       "      <td>0.763962</td>\n",
       "      <td>9.825000</td>\n",
       "      <td>42.512500</td>\n",
       "      <td>22.362500</td>\n",
       "      <td>7.762500</td>\n",
       "      <td>4.687500</td>\n",
       "      <td>14.350000</td>\n",
       "      <td>19.925000</td>\n",
       "      <td>0.525000</td>\n",
       "      <td>0.525000</td>\n",
       "    </tr>\n",
       "    <tr>\n",
       "      <th>2459</th>\n",
       "      <td>WAS</td>\n",
       "      <td>82</td>\n",
       "      <td>2018-04-11</td>\n",
       "      <td>Away</td>\n",
       "      <td>ORL</td>\n",
       "      <td>L</td>\n",
       "      <td>42.0</td>\n",
       "      <td>42.0</td>\n",
       "      <td>106.790123</td>\n",
       "      <td>106.086420</td>\n",
       "      <td>...</td>\n",
       "      <td>0.764593</td>\n",
       "      <td>9.864198</td>\n",
       "      <td>42.530864</td>\n",
       "      <td>22.358025</td>\n",
       "      <td>7.839506</td>\n",
       "      <td>4.641975</td>\n",
       "      <td>14.370370</td>\n",
       "      <td>19.901235</td>\n",
       "      <td>0.518519</td>\n",
       "      <td>0.518519</td>\n",
       "    </tr>\n",
       "  </tbody>\n",
       "</table>\n",
       "<p>9840 rows × 44 columns</p>\n",
       "</div>"
      ],
      "text/plain": [
       "     Team  Game       Date  Home Opponent WINorLOSS  wins  opp_wins  \\\n",
       "0     ATL     1 2014-10-29  Away      TOR         L   0.0       0.0   \n",
       "1     ATL     2 2014-11-01  Home      IND         W   0.0       0.0   \n",
       "2     ATL     3 2014-11-05  Away      SAS         L   0.0       0.0   \n",
       "3     ATL     4 2014-11-07  Away      CHO         L   0.0       0.0   \n",
       "4     ATL     5 2014-11-08  Home      NYK         W   1.0       1.0   \n",
       "...   ...   ...        ...   ...      ...       ...   ...       ...   \n",
       "2455  WAS    78 2018-04-03  Away      HOU         L  41.0      41.0   \n",
       "2456  WAS    79 2018-04-05  Away      CLE         L  41.0      41.0   \n",
       "2457  WAS    80 2018-04-06  Home      ATL         L  41.0      41.0   \n",
       "2458  WAS    81 2018-04-10  Home      BOS         W  42.0      42.0   \n",
       "2459  WAS    82 2018-04-11  Away      ORL         L  42.0      42.0   \n",
       "\n",
       "      TeamPoints  OpponentPoints  ...  Opp.FreeThrows.  Opp.OffRebounds  \\\n",
       "0            NaN             NaN  ...              NaN              NaN   \n",
       "1     102.000000      109.000000  ...         0.818000        16.000000   \n",
       "2     102.000000      100.500000  ...         0.837500        13.500000   \n",
       "3      98.666667       98.333333  ...         0.795333        12.666667   \n",
       "4     103.750000      104.250000  ...         0.781750        12.250000   \n",
       "...          ...             ...  ...              ...              ...   \n",
       "2455  106.766234      105.844156  ...         0.765818         9.922078   \n",
       "2456  106.730769      106.025641  ...         0.764551         9.923077   \n",
       "2457  106.835443      106.189873  ...         0.764823         9.860759   \n",
       "2458  106.712500      106.150000  ...         0.763962         9.825000   \n",
       "2459  106.790123      106.086420  ...         0.764593         9.864198   \n",
       "\n",
       "      Opp.TotalRebounds  Opp.Assists  Opp.Steals  Opp.Blocks  Opp.Turnovers  \\\n",
       "0                   NaN          NaN         NaN         NaN            NaN   \n",
       "1             48.000000    26.000000   13.000000    9.000000       9.000000   \n",
       "2             46.000000    25.500000    9.000000    7.000000      13.500000   \n",
       "3             47.333333    25.333333    8.333333    7.666667      15.333333   \n",
       "4             48.250000    26.750000    7.750000    7.500000      16.250000   \n",
       "...                 ...          ...         ...         ...            ...   \n",
       "2455          42.467532    22.246753    7.701299    4.727273      14.350649   \n",
       "2456          42.512821    22.294872    7.769231    4.705128      14.282051   \n",
       "2457          42.417722    22.341772    7.797468    4.683544      14.303797   \n",
       "2458          42.512500    22.362500    7.762500    4.687500      14.350000   \n",
       "2459          42.530864    22.358025    7.839506    4.641975      14.370370   \n",
       "\n",
       "      Opp.TotalFouls   win_pct  opp_win_pct  \n",
       "0                NaN       NaN          NaN  \n",
       "1          22.000000  0.000000     0.000000  \n",
       "2          24.000000  0.000000     0.000000  \n",
       "3          21.000000  0.000000     0.000000  \n",
       "4          23.250000  0.250000     0.250000  \n",
       "...              ...       ...          ...  \n",
       "2455       20.051948  0.532468     0.532468  \n",
       "2456       19.974359  0.525641     0.525641  \n",
       "2457       19.898734  0.518987     0.518987  \n",
       "2458       19.925000  0.525000     0.525000  \n",
       "2459       19.901235  0.518519     0.518519  \n",
       "\n",
       "[9840 rows x 44 columns]"
      ]
     },
     "metadata": {},
     "output_type": "display_data"
    }
   ],
   "source": [
    "nba = nba.drop(columns = ['home_game', 'opp_games'])\n",
    "display(nba)"
   ]
  },
  {
   "cell_type": "markdown",
   "metadata": {},
   "source": [
    "Now we have a \"final\" dataset to use. Future feature engineering could be done to include a handful of other things, such as:\n",
    "* Travel distance for team\n",
    "* If a team had to change timezones\n",
    "* How many games back-to-back a team had played"
   ]
  },
  {
   "cell_type": "code",
   "execution_count": 146,
   "metadata": {
    "ExecuteTime": {
     "end_time": "2020-02-18T16:21:59.502470Z",
     "start_time": "2020-02-18T16:21:59.493055Z"
    }
   },
   "outputs": [],
   "source": [
    "# Finally we drop the columns with NaN for either team's winning pct because we need games with data on both teams\n",
    "nba = nba[(nba['win_pct'].notna()) & (nba['opp_win_pct'].notna())]"
   ]
  },
  {
   "cell_type": "code",
   "execution_count": 147,
   "metadata": {
    "ExecuteTime": {
     "end_time": "2020-02-18T16:21:59.517050Z",
     "start_time": "2020-02-18T16:21:59.504374Z"
    },
    "scrolled": true
   },
   "outputs": [
    {
     "name": "stdout",
     "output_type": "stream",
     "text": [
      "<class 'pandas.core.frame.DataFrame'>\n",
      "Int64Index: 9720 entries, 1 to 2459\n",
      "Data columns (total 44 columns):\n",
      "Team                        9720 non-null category\n",
      "Game                        9720 non-null int64\n",
      "Date                        9720 non-null datetime64[ns]\n",
      "Home                        9720 non-null category\n",
      "Opponent                    9720 non-null category\n",
      "WINorLOSS                   9720 non-null category\n",
      "wins                        9720 non-null float64\n",
      "opp_wins                    9720 non-null float64\n",
      "TeamPoints                  9720 non-null float64\n",
      "OpponentPoints              9720 non-null float64\n",
      "FieldGoals                  9720 non-null float64\n",
      "FieldGoalsAttempted         9720 non-null float64\n",
      "FieldGoals.                 9720 non-null float64\n",
      "X3PointShots                9720 non-null float64\n",
      "X3PointShotsAttempted       9720 non-null float64\n",
      "X3PointShots.               9720 non-null float64\n",
      "FreeThrows                  9720 non-null float64\n",
      "FreeThrowsAttempted         9720 non-null float64\n",
      "FreeThrows.                 9720 non-null float64\n",
      "OffRebounds                 9720 non-null float64\n",
      "TotalRebounds               9720 non-null float64\n",
      "Assists                     9720 non-null float64\n",
      "Steals                      9720 non-null float64\n",
      "Blocks                      9720 non-null float64\n",
      "Turnovers                   9720 non-null float64\n",
      "TotalFouls                  9720 non-null float64\n",
      "Opp.FieldGoals              9720 non-null float64\n",
      "Opp.FieldGoalsAttempted     9720 non-null float64\n",
      "Opp.FieldGoals.             9720 non-null float64\n",
      "Opp.3PointShots             9720 non-null float64\n",
      "Opp.3PointShotsAttempted    9720 non-null float64\n",
      "Opp.3PointShots.            9720 non-null float64\n",
      "Opp.FreeThrows              9720 non-null float64\n",
      "Opp.FreeThrowsAttempted     9720 non-null float64\n",
      "Opp.FreeThrows.             9720 non-null float64\n",
      "Opp.OffRebounds             9720 non-null float64\n",
      "Opp.TotalRebounds           9720 non-null float64\n",
      "Opp.Assists                 9720 non-null float64\n",
      "Opp.Steals                  9720 non-null float64\n",
      "Opp.Blocks                  9720 non-null float64\n",
      "Opp.Turnovers               9720 non-null float64\n",
      "Opp.TotalFouls              9720 non-null float64\n",
      "win_pct                     9720 non-null float64\n",
      "opp_win_pct                 9720 non-null float64\n",
      "dtypes: category(4), datetime64[ns](1), float64(38), int64(1)\n",
      "memory usage: 3.1 MB\n"
     ]
    }
   ],
   "source": [
    "# Print final data info\n",
    "nba.info()"
   ]
  },
  {
   "cell_type": "markdown",
   "metadata": {},
   "source": [
    "## Exploratory Data Analysis\n",
    "Some brief exploration of the data now that it has been properly formatted and is in a usable situation."
   ]
  },
  {
   "cell_type": "code",
   "execution_count": 148,
   "metadata": {
    "ExecuteTime": {
     "end_time": "2020-02-18T16:21:59.521777Z",
     "start_time": "2020-02-18T16:21:59.518929Z"
    }
   },
   "outputs": [],
   "source": [
    "import pandas_profiling"
   ]
  },
  {
   "cell_type": "code",
   "execution_count": 149,
   "metadata": {
    "ExecuteTime": {
     "end_time": "2020-02-18T16:21:59.526883Z",
     "start_time": "2020-02-18T16:21:59.524223Z"
    },
    "scrolled": true
   },
   "outputs": [],
   "source": [
    "#pandas_profiling.ProfileReport(nba)"
   ]
  },
  {
   "cell_type": "markdown",
   "metadata": {},
   "source": [
    "## Model Building\n",
    "The aim of this is to predict whether or not a team will win or loss. This is found in the `WINorLOSS` column for each game. We have a total of four seasons worth of data and can use all of ths information available since we \"backlogged\" the season averages to not include the game they are from. This means we are attempting to predict the winner of a game based on the averages of the Home and Away teams and their respective winning percentages heading into the game. Let's start with a basic logistic regression model."
   ]
  },
  {
   "cell_type": "code",
   "execution_count": 150,
   "metadata": {
    "ExecuteTime": {
     "end_time": "2020-02-18T16:21:59.534057Z",
     "start_time": "2020-02-18T16:21:59.529290Z"
    }
   },
   "outputs": [],
   "source": [
    "# Converting WINorLOSS into a numeric column\n",
    "nba['WINorLOSS'] = np.where(nba['WINorLOSS'] == 'W', 1, 0)"
   ]
  },
  {
   "cell_type": "markdown",
   "metadata": {},
   "source": [
    "### Logistic Regression"
   ]
  },
  {
   "cell_type": "markdown",
   "metadata": {},
   "source": [
    "To do logistic regression, we need to convert all of our categorical variables to 'dummy' variables using the `get_dummies` function."
   ]
  },
  {
   "cell_type": "code",
   "execution_count": 151,
   "metadata": {
    "ExecuteTime": {
     "end_time": "2020-02-18T16:21:59.588985Z",
     "start_time": "2020-02-18T16:21:59.539946Z"
    }
   },
   "outputs": [
    {
     "data": {
      "text/html": [
       "<div>\n",
       "<style scoped>\n",
       "    .dataframe tbody tr th:only-of-type {\n",
       "        vertical-align: middle;\n",
       "    }\n",
       "\n",
       "    .dataframe tbody tr th {\n",
       "        vertical-align: top;\n",
       "    }\n",
       "\n",
       "    .dataframe thead th {\n",
       "        text-align: right;\n",
       "    }\n",
       "</style>\n",
       "<table border=\"1\" class=\"dataframe\">\n",
       "  <thead>\n",
       "    <tr style=\"text-align: right;\">\n",
       "      <th></th>\n",
       "      <th>Game</th>\n",
       "      <th>WINorLOSS</th>\n",
       "      <th>wins</th>\n",
       "      <th>opp_wins</th>\n",
       "      <th>TeamPoints</th>\n",
       "      <th>OpponentPoints</th>\n",
       "      <th>FieldGoals</th>\n",
       "      <th>FieldGoalsAttempted</th>\n",
       "      <th>FieldGoals.</th>\n",
       "      <th>X3PointShots</th>\n",
       "      <th>...</th>\n",
       "      <th>Opponent_OKC</th>\n",
       "      <th>Opponent_ORL</th>\n",
       "      <th>Opponent_PHI</th>\n",
       "      <th>Opponent_PHO</th>\n",
       "      <th>Opponent_POR</th>\n",
       "      <th>Opponent_SAC</th>\n",
       "      <th>Opponent_SAS</th>\n",
       "      <th>Opponent_TOR</th>\n",
       "      <th>Opponent_UTA</th>\n",
       "      <th>Opponent_WAS</th>\n",
       "    </tr>\n",
       "  </thead>\n",
       "  <tbody>\n",
       "    <tr>\n",
       "      <th>1</th>\n",
       "      <td>2</td>\n",
       "      <td>1</td>\n",
       "      <td>0.0</td>\n",
       "      <td>0.0</td>\n",
       "      <td>102.000000</td>\n",
       "      <td>109.000000</td>\n",
       "      <td>40.000000</td>\n",
       "      <td>80.000000</td>\n",
       "      <td>0.500000</td>\n",
       "      <td>13.000000</td>\n",
       "      <td>...</td>\n",
       "      <td>0</td>\n",
       "      <td>0</td>\n",
       "      <td>0</td>\n",
       "      <td>0</td>\n",
       "      <td>0</td>\n",
       "      <td>0</td>\n",
       "      <td>0</td>\n",
       "      <td>0</td>\n",
       "      <td>0</td>\n",
       "      <td>0</td>\n",
       "    </tr>\n",
       "    <tr>\n",
       "      <th>2</th>\n",
       "      <td>3</td>\n",
       "      <td>0</td>\n",
       "      <td>0.0</td>\n",
       "      <td>0.0</td>\n",
       "      <td>102.000000</td>\n",
       "      <td>100.500000</td>\n",
       "      <td>37.500000</td>\n",
       "      <td>74.500000</td>\n",
       "      <td>0.503500</td>\n",
       "      <td>10.000000</td>\n",
       "      <td>...</td>\n",
       "      <td>0</td>\n",
       "      <td>0</td>\n",
       "      <td>0</td>\n",
       "      <td>0</td>\n",
       "      <td>0</td>\n",
       "      <td>0</td>\n",
       "      <td>1</td>\n",
       "      <td>0</td>\n",
       "      <td>0</td>\n",
       "      <td>0</td>\n",
       "    </tr>\n",
       "    <tr>\n",
       "      <th>3</th>\n",
       "      <td>4</td>\n",
       "      <td>0</td>\n",
       "      <td>0.0</td>\n",
       "      <td>0.0</td>\n",
       "      <td>98.666667</td>\n",
       "      <td>98.333333</td>\n",
       "      <td>37.666667</td>\n",
       "      <td>80.333333</td>\n",
       "      <td>0.473333</td>\n",
       "      <td>9.333333</td>\n",
       "      <td>...</td>\n",
       "      <td>0</td>\n",
       "      <td>0</td>\n",
       "      <td>0</td>\n",
       "      <td>0</td>\n",
       "      <td>0</td>\n",
       "      <td>0</td>\n",
       "      <td>0</td>\n",
       "      <td>0</td>\n",
       "      <td>0</td>\n",
       "      <td>0</td>\n",
       "    </tr>\n",
       "    <tr>\n",
       "      <th>4</th>\n",
       "      <td>5</td>\n",
       "      <td>1</td>\n",
       "      <td>1.0</td>\n",
       "      <td>1.0</td>\n",
       "      <td>103.750000</td>\n",
       "      <td>104.250000</td>\n",
       "      <td>39.000000</td>\n",
       "      <td>83.500000</td>\n",
       "      <td>0.470500</td>\n",
       "      <td>10.250000</td>\n",
       "      <td>...</td>\n",
       "      <td>0</td>\n",
       "      <td>0</td>\n",
       "      <td>0</td>\n",
       "      <td>0</td>\n",
       "      <td>0</td>\n",
       "      <td>0</td>\n",
       "      <td>0</td>\n",
       "      <td>0</td>\n",
       "      <td>0</td>\n",
       "      <td>0</td>\n",
       "    </tr>\n",
       "    <tr>\n",
       "      <th>5</th>\n",
       "      <td>6</td>\n",
       "      <td>1</td>\n",
       "      <td>2.0</td>\n",
       "      <td>2.0</td>\n",
       "      <td>103.600000</td>\n",
       "      <td>102.600000</td>\n",
       "      <td>37.800000</td>\n",
       "      <td>83.000000</td>\n",
       "      <td>0.457800</td>\n",
       "      <td>10.000000</td>\n",
       "      <td>...</td>\n",
       "      <td>0</td>\n",
       "      <td>0</td>\n",
       "      <td>0</td>\n",
       "      <td>0</td>\n",
       "      <td>0</td>\n",
       "      <td>0</td>\n",
       "      <td>0</td>\n",
       "      <td>0</td>\n",
       "      <td>0</td>\n",
       "      <td>0</td>\n",
       "    </tr>\n",
       "  </tbody>\n",
       "</table>\n",
       "<p>5 rows × 99 columns</p>\n",
       "</div>"
      ],
      "text/plain": [
       "   Game  WINorLOSS  wins  opp_wins  TeamPoints  OpponentPoints  FieldGoals  \\\n",
       "1     2          1   0.0       0.0  102.000000      109.000000   40.000000   \n",
       "2     3          0   0.0       0.0  102.000000      100.500000   37.500000   \n",
       "3     4          0   0.0       0.0   98.666667       98.333333   37.666667   \n",
       "4     5          1   1.0       1.0  103.750000      104.250000   39.000000   \n",
       "5     6          1   2.0       2.0  103.600000      102.600000   37.800000   \n",
       "\n",
       "   FieldGoalsAttempted  FieldGoals.  X3PointShots  ...  Opponent_OKC  \\\n",
       "1            80.000000     0.500000     13.000000  ...             0   \n",
       "2            74.500000     0.503500     10.000000  ...             0   \n",
       "3            80.333333     0.473333      9.333333  ...             0   \n",
       "4            83.500000     0.470500     10.250000  ...             0   \n",
       "5            83.000000     0.457800     10.000000  ...             0   \n",
       "\n",
       "   Opponent_ORL  Opponent_PHI  Opponent_PHO  Opponent_POR  Opponent_SAC  \\\n",
       "1             0             0             0             0             0   \n",
       "2             0             0             0             0             0   \n",
       "3             0             0             0             0             0   \n",
       "4             0             0             0             0             0   \n",
       "5             0             0             0             0             0   \n",
       "\n",
       "   Opponent_SAS  Opponent_TOR  Opponent_UTA  Opponent_WAS  \n",
       "1             0             0             0             0  \n",
       "2             1             0             0             0  \n",
       "3             0             0             0             0  \n",
       "4             0             0             0             0  \n",
       "5             0             0             0             0  \n",
       "\n",
       "[5 rows x 99 columns]"
      ]
     },
     "execution_count": 151,
     "metadata": {},
     "output_type": "execute_result"
    }
   ],
   "source": [
    "# Create dummy data\n",
    "nba = nba.drop(columns = {'Date'})\n",
    "nba_dummies = pd.get_dummies(nba, drop_first=True) # Drop first to avoid multicollinearity\n",
    "nba_dummies.head()"
   ]
  },
  {
   "cell_type": "markdown",
   "metadata": {},
   "source": [
    "Using the `scikit learn` library, we will now split our data into training and testing sets."
   ]
  },
  {
   "cell_type": "code",
   "execution_count": 156,
   "metadata": {
    "ExecuteTime": {
     "end_time": "2020-02-18T16:22:45.851338Z",
     "start_time": "2020-02-18T16:22:45.845797Z"
    }
   },
   "outputs": [],
   "source": [
    "# Setup temporary dataframes for features and labels\n",
    "X = nba_dummies.drop(columns = ['WINorLOSS'])\n",
    "y = nba_dummies['WINorLOSS']"
   ]
  },
  {
   "cell_type": "code",
   "execution_count": 157,
   "metadata": {
    "ExecuteTime": {
     "end_time": "2020-02-18T16:22:47.270556Z",
     "start_time": "2020-02-18T16:22:47.262340Z"
    }
   },
   "outputs": [],
   "source": [
    "# Split data into training and testing\n",
    "X_train, X_test, y_train, y_test = train_test_split(X, y, test_size = 0.25, random_state = 7)"
   ]
  },
  {
   "cell_type": "code",
   "execution_count": 158,
   "metadata": {
    "ExecuteTime": {
     "end_time": "2020-02-18T16:22:48.437220Z",
     "start_time": "2020-02-18T16:22:48.433170Z"
    }
   },
   "outputs": [
    {
     "name": "stdout",
     "output_type": "stream",
     "text": [
      "(7290, 98)\n",
      "(2430, 98)\n",
      "(7290,)\n",
      "(2430,)\n"
     ]
    }
   ],
   "source": [
    "# Print out dims for each data set\n",
    "print(X_train.shape)\n",
    "print(X_test.shape)\n",
    "print(y_train.shape)\n",
    "print(y_test.shape)"
   ]
  },
  {
   "cell_type": "markdown",
   "metadata": {},
   "source": [
    "#### Standardize the data\n",
    "Need to standardize the data before building the model"
   ]
  },
  {
   "cell_type": "code",
   "execution_count": 159,
   "metadata": {
    "ExecuteTime": {
     "end_time": "2020-02-18T16:22:51.071674Z",
     "start_time": "2020-02-18T16:22:51.043930Z"
    }
   },
   "outputs": [],
   "source": [
    "# Standardize\n",
    "scaler = StandardScaler()\n",
    "X_train_std = scaler.fit_transform(X_train)\n",
    "X_test_std = scaler.transform(X_test)"
   ]
  },
  {
   "cell_type": "markdown",
   "metadata": {},
   "source": [
    "#### Create and fit the model"
   ]
  },
  {
   "cell_type": "code",
   "execution_count": 160,
   "metadata": {
    "ExecuteTime": {
     "end_time": "2020-02-18T17:14:17.449945Z",
     "start_time": "2020-02-18T16:23:28.573629Z"
    }
   },
   "outputs": [
    {
     "data": {
      "text/plain": [
       "LogisticRegressionCV(Cs=500, class_weight=None, cv=5, dual=False,\n",
       "                     fit_intercept=True, intercept_scaling=1.0, l1_ratios=None,\n",
       "                     max_iter=100, multi_class='warn', n_jobs=None,\n",
       "                     penalty='l1', random_state=None, refit=True, scoring=None,\n",
       "                     solver='liblinear', tol=0.0001, verbose=0)"
      ]
     },
     "execution_count": 160,
     "metadata": {},
     "output_type": "execute_result"
    }
   ],
   "source": [
    "# Using LogisticRegressionCV function for cross validation\n",
    "# Define regularization parameters\n",
    "#reg_params = np.arange(0.5, 0.001, -0.001)\n",
    "# Create & fit the CV version of Logistic Regression\n",
    "logRegCVSD = LogisticRegressionCV(Cs=500, penalty='l1', cv=5, solver='liblinear')\n",
    "logRegCVSD.fit(X_train_std, y_train)"
   ]
  },
  {
   "cell_type": "code",
   "execution_count": 161,
   "metadata": {
    "ExecuteTime": {
     "end_time": "2020-02-18T18:40:26.110687Z",
     "start_time": "2020-02-18T18:40:26.106744Z"
    }
   },
   "outputs": [
    {
     "data": {
      "text/plain": [
       "array([4439.09653139])"
      ]
     },
     "execution_count": 161,
     "metadata": {},
     "output_type": "execute_result"
    }
   ],
   "source": [
    "logRegCVSD.C_"
   ]
  },
  {
   "cell_type": "code",
   "execution_count": 162,
   "metadata": {
    "ExecuteTime": {
     "end_time": "2020-02-18T18:40:45.453220Z",
     "start_time": "2020-02-18T18:40:45.095177Z"
    }
   },
   "outputs": [
    {
     "name": "stdout",
     "output_type": "stream",
     "text": [
      "0.7097370002534077\n"
     ]
    },
    {
     "data": {
      "image/png": "[encoded data removed]",
      "text/plain": [
       "<Figure size 2160x648 with 1 Axes>"
      ]
     },
     "metadata": {
      "needs_background": "light"
     },
     "output_type": "display_data"
    }
   ],
   "source": [
    "fig, axs = plt.subplots(1, 1, figsize=(30, 9))\n",
    "axs.plot(logRegCVSD.Cs_, logRegCVSD.scores_[1].mean(axis=0), marker='o')\n",
    "axs.plot(logRegCVSD.C_, logRegCVSD.scores_[1].mean(axis=0).max(), marker='x',\n",
    "         markersize=15)\n",
    "# axs.set_xscale('log')\n",
    "axs.set_title('')\n",
    "axs.set_xlabel('C Values')\n",
    "axs.set_ylabel('Accuracy')\n",
    "axs.grid()\n",
    "\n",
    "# print max accuracy\n",
    "print(logRegCVSD.scores_[1].mean(axis=0).max())"
   ]
  },
  {
   "cell_type": "code",
   "execution_count": 163,
   "metadata": {
    "ExecuteTime": {
     "end_time": "2020-02-18T18:41:43.463282Z",
     "start_time": "2020-02-18T18:41:43.450956Z"
    }
   },
   "outputs": [
    {
     "name": "stdout",
     "output_type": "stream",
     "text": [
      "Train Accuracy: 50.00%\n",
      "Test Accuracy: 48.89%\n"
     ]
    }
   ],
   "source": [
    "# Calculate accuracy of the model\n",
    "# Make predictions using the training data\n",
    "train_preds = logRegCVSD.predict(X_train)\n",
    "# Score those predictions\n",
    "train_acc = accuracy_score(train_preds, y_train)\n",
    "\n",
    "# Make predictions on the testing data\n",
    "test_preds = logRegCVSD.predict(X_test)\n",
    "# Score those predictions\n",
    "test_acc = accuracy_score(test_preds, y_test)\n",
    "\n",
    "# Print out the accuracy for each\n",
    "print(\"Train Accuracy: {:.2f}%\".format(train_acc*100))\n",
    "print(\"Test Accuracy: {:.2f}%\".format(test_acc*100))"
   ]
  },
  {
   "cell_type": "markdown",
   "metadata": {},
   "source": [
    "### Decision Tree"
   ]
  },
  {
   "cell_type": "markdown",
   "metadata": {},
   "source": [
    "#### Fit original model"
   ]
  },
  {
   "cell_type": "code",
   "execution_count": 164,
   "metadata": {
    "ExecuteTime": {
     "end_time": "2020-02-18T19:01:59.359330Z",
     "start_time": "2020-02-18T19:01:59.135892Z"
    }
   },
   "outputs": [
    {
     "data": {
      "text/plain": [
       "DecisionTreeClassifier(class_weight=None, criterion='gini', max_depth=None,\n",
       "                       max_features=None, max_leaf_nodes=None,\n",
       "                       min_impurity_decrease=0.0, min_impurity_split=None,\n",
       "                       min_samples_leaf=25, min_samples_split=2,\n",
       "                       min_weight_fraction_leaf=0.0, presort=False,\n",
       "                       random_state=7, splitter='best')"
      ]
     },
     "execution_count": 164,
     "metadata": {},
     "output_type": "execute_result"
    }
   ],
   "source": [
    "# Define model\n",
    "clf = DecisionTreeClassifier(random_state=7, min_samples_leaf=25)\n",
    "# Fit model\n",
    "clf.fit(X_train, y_train)"
   ]
  },
  {
   "cell_type": "markdown",
   "metadata": {},
   "source": [
    "#### Find accuracy for train/test data"
   ]
  },
  {
   "cell_type": "code",
   "execution_count": 165,
   "metadata": {
    "ExecuteTime": {
     "end_time": "2020-02-18T19:02:27.745873Z",
     "start_time": "2020-02-18T19:02:27.732893Z"
    }
   },
   "outputs": [
    {
     "name": "stdout",
     "output_type": "stream",
     "text": [
      "The accuracy on the training data is 75%\n",
      "The accuracy on the testing data is 61%\n"
     ]
    }
   ],
   "source": [
    "# Find the accuracy on the training data\n",
    "train_data_accuracy = accuracy_score(clf.predict(X_train), y_train)\n",
    "\n",
    "# Find the accuracy on the testing data\n",
    "test_data_accuracy = accuracy_score(clf.predict(X_test) , y_test)\n",
    "\n",
    "print('The accuracy on the training data is {:.0f}%'.format(train_data_accuracy*100))\n",
    "print('The accuracy on the testing data is {:.0f}%'.format(test_data_accuracy*100))"
   ]
  },
  {
   "cell_type": "markdown",
   "metadata": {},
   "source": [
    "#### Tree model using GridSearch approach"
   ]
  },
  {
   "cell_type": "code",
   "execution_count": null,
   "metadata": {
    "ExecuteTime": {
     "start_time": "2020-02-18T19:35:41.504Z"
    }
   },
   "outputs": [],
   "source": [
    "# Redo tree but with GridSearchCV for fine-tuning the model\n",
    "clf = DecisionTreeClassifier(random_state=7)\n",
    "# Create a dictionary of parameters & ranges to test against\n",
    "parameters = {'min_samples_leaf': range(25,500), 'max_depth': range(3,50)}\n",
    "# Create GridSearchCV\n",
    "gsCV = GridSearchCV(clf, parameters, cv=5, return_train_score=True)\n",
    "# Train the model\n",
    "gsCV.fit(X_train, y_train)\n",
    "# Get the results of the grid search approach\n",
    "grid_results = pd.DataFrame(gsCV.cv_results_)\n",
    "# Order the results on best test score and print out the top ten\n",
    "grid_results.sort_values('rank_test_score').head(10)"
   ]
  }
 ],
 "metadata": {
  "kernelspec": {
   "display_name": "Python 3",
   "language": "python",
   "name": "python3"
  },
  "language_info": {
   "codemirror_mode": {
    "name": "ipython",
    "version": 3
   },
   "file_extension": ".py",
   "mimetype": "text/x-python",
   "name": "python",
   "nbconvert_exporter": "python",
   "pygments_lexer": "ipython3",
   "version": "3.7.4"
  },
  "varInspector": {
   "cols": {
    "lenName": 16,
    "lenType": 16,
    "lenVar": 40
   },
   "kernels_config": {
    "python": {
     "delete_cmd_postfix": "",
     "delete_cmd_prefix": "del ",
     "library": "var_list.py",
     "varRefreshCmd": "print(var_dic_list())"
    },
    "r": {
     "delete_cmd_postfix": ") ",
     "delete_cmd_prefix": "rm(",
     "library": "var_list.r",
     "varRefreshCmd": "cat(var_dic_list()) "
    }
   },
   "types_to_exclude": [
    "module",
    "function",
    "builtin_function_or_method",
    "instance",
    "_Feature"
   ],
   "window_display": false
  }
 },
 "nbformat": 4,
 "nbformat_minor": 2
}
